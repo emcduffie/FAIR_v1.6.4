{
 "cells": [
  {
   "cell_type": "code",
   "execution_count": 1,
   "metadata": {},
   "outputs": [
    {
     "data": {
      "text/plain": [
       "'1.6.4'"
      ]
     },
     "execution_count": 1,
     "metadata": {},
     "output_type": "execute_result"
    }
   ],
   "source": [
    "import pandas as pd\n",
    "import numpy as np\n",
    "import fair\n",
    "from fair.RCPs import rcp60\n",
    "\n",
    "fair.__version__"
   ]
  },
  {
   "cell_type": "code",
   "execution_count": 3,
   "metadata": {},
   "outputs": [],
   "source": [
    "#read emissions files\n",
    "methane_file = 'og_methane_emissions.csv'\n",
    "ndc_file = 'og_ndc_emissions.csv'\n",
    "methane_data = pd.read_csv(methane_file).to_numpy()\n",
    "ndc_data = pd.read_csv(ndc_file).to_numpy()\n",
    "\n"
   ]
  },
  {
   "cell_type": "code",
   "execution_count": 4,
   "metadata": {},
   "outputs": [],
   "source": [
    "#Fair got angry that I was only running 336 years, instead of 736, so I added 400 years of zeroes to the end. \n",
    "#Just disreguard the last 400 years of both runs. \n",
    "\n",
    "end_zeros = np.zeros((400, 40))\n",
    "methane_errorfix = np.array(list(methane_data)+ list(end_zeros))\n",
    "ndc_errorfix = np.array(list(ndc_data) + list(end_zeros))"
   ]
  },
  {
   "cell_type": "code",
   "execution_count": 5,
   "metadata": {},
   "outputs": [
    {
     "name": "stderr",
     "output_type": "stream",
     "text": [
      "C:\\Users\\emcduf01\\Anaconda3\\lib\\site-packages\\fair\\forcing\\aerosols.py:132: RuntimeWarning: invalid value encountered in log\n",
      "  return scale*np.log(1+b_SOx*em[0]+b_POM*em[1])\n"
     ]
    }
   ],
   "source": [
    "C60,F60,T60 = fair.forward.fair_scm(emissions=rcp60.Emissions.emissions)\n",
    "C,F,T = fair.forward.fair_scm(emissions=methane_errorfix)\n",
    "Cn, Fn, Tn = fair.forward.fair_scm(emissions=ndc_errorfix)\n"
   ]
  }
 ],
 "metadata": {
  "kernelspec": {
   "display_name": "Python 3",
   "language": "python",
   "name": "python3"
  },
  "language_info": {
   "codemirror_mode": {
    "name": "ipython",
    "version": 3
   },
   "file_extension": ".py",
   "mimetype": "text/x-python",
   "name": "python",
   "nbconvert_exporter": "python",
   "pygments_lexer": "ipython3",
   "version": "3.8.3"
  }
 },
 "nbformat": 4,
 "nbformat_minor": 5
}
